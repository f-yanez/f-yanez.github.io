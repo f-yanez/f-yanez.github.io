{
 "cells": [
  {
   "cell_type": "code",
   "execution_count": null,
   "id": "3a7339db",
   "metadata": {},
   "outputs": [],
   "source": [
    "import os\n",
    "import glob\n",
    "from bs4 import BeautifulSoup\n",
    "import openai\n",
    "import markdownify\n",
    "\n",
    "# Replace this with your OpenAI API key\n",
    "openai.api_key = 'your_openai_api_key'\n",
    "\n",
    "def extract_post_content(html_file):\n",
    "    with open(html_file, 'r', encoding='utf-8') as file:\n",
    "        content = file.read()\n",
    "        soup = BeautifulSoup(content, 'html.parser')\n",
    "        post_section = soup.find(id='post')\n",
    "        if post_section:\n",
    "            return post_section.get_text()\n",
    "    return None\n",
    "\n",
    "def send_to_openai_api(text, prompt):\n",
    "    response = openai.Completion.create(\n",
    "        engine=\"davinci-codex\",\n",
    "        prompt=f\"{text}\\n{prompt}\",\n",
    "        max_tokens=150,\n",
    "        n=1,\n",
    "        stop=None,\n",
    "        temperature=0.8,\n",
    "    )\n",
    "    return response.choices[0].text.strip()\n",
    "\n",
    "def save_markdown_file(content, output_file):\n",
    "    with open(output_file, 'w', encoding='utf-8') as file:\n",
    "        file.write(content)\n",
    "\n",
    "input_folder = 'path/to/your/html_files'\n",
    "output_folder = 'path/to/your/markdown_files'\n",
    "prompt = 'Your specified prompt here'\n",
    "\n",
    "html_files = glob.glob(os.path.join(input_folder, '*.html'))\n",
    "\n",
    "for html_file in html_files:\n",
    "    post_content = extract_post_content(html_file)\n",
    "    if post_content:\n",
    "        api_response = send_to_openai_api(post_content, prompt)\n",
    "        md_content = markdownify.markdownify(api_response)\n",
    "        output_file = os.path.join(output_folder, os.path.splitext(os.path.basename(html_file))[0] + '.md')\n",
    "        save_markdown_file(md_content, output_file)\n"
   ]
  }
 ],
 "metadata": {
  "kernelspec": {
   "display_name": "Python 3 (ipykernel)",
   "language": "python",
   "name": "python3"
  },
  "language_info": {
   "codemirror_mode": {
    "name": "ipython",
    "version": 3
   },
   "file_extension": ".py",
   "mimetype": "text/x-python",
   "name": "python",
   "nbconvert_exporter": "python",
   "pygments_lexer": "ipython3",
   "version": "3.11.3"
  }
 },
 "nbformat": 4,
 "nbformat_minor": 5
}
